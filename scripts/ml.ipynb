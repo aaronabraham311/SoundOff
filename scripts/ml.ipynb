{
 "cells": [
  {
   "cell_type": "markdown",
   "metadata": {},
   "source": [
    "# Machine Learning Modelling\n",
    "\n",
    "We will now try to model our data using the insights that were gathered in the EDA phase. The objective for this model is to classify songs based on its years. We have already seen that clustering via PCA/tSNE is difficult, but hopefully some of the machine learning that we will be implementing will help.\n",
    "\n",
    "Here is a plan of what I would like to accomplish in this phase:\n",
    "1. Create our training, validation and testing data (test data will need to be scrapped again)\n",
    "2. Create a simple linear regression as a baseline model (most likely LASSO)\n",
    "    1. Look at which features are impacting the model the most \n",
    "    2. Examine residuals to see if there are any patterns\n",
    "3. Create 5 different models and try to optimize hyperparameters for each one\n",
    "    1. Try to incorporate Bayesian machine learning for this\n",
    "    2. Random forest, XGBoost, KNN, SVM and/or other models\n",
    "4. Explain\n",
    "    1. Use Shapley plots and partial dependence plots to examine which features are having a heavy impact"
   ]
  }
 ],
 "metadata": {
  "kernelspec": {
   "display_name": "env",
   "language": "python",
   "name": "env"
  },
  "language_info": {
   "codemirror_mode": {
    "name": "ipython",
    "version": 3
   },
   "file_extension": ".py",
   "mimetype": "text/x-python",
   "name": "python",
   "nbconvert_exporter": "python",
   "pygments_lexer": "ipython3",
   "version": "3.7.3"
  }
 },
 "nbformat": 4,
 "nbformat_minor": 2
}
