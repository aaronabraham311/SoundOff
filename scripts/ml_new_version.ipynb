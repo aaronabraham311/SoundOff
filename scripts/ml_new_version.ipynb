{
 "cells": [
  {
   "cell_type": "markdown",
   "metadata": {},
   "source": [
    "# Machine Learning Modelling\n",
    "\n",
    "We will now try to model our data using the insights that were gathered in the EDA phase. The objective for this model is to classify songs based on its years. We have already seen that clustering via PCA/tSNE is difficult, but hopefully some of the machine learning that we will be implementing will help.\n",
    "\n",
    "Here is a plan of what I would like to accomplish in this phase:\n",
    "1. Create our training, validation and testing data (test data will need to be scrapped again)\n",
    "2. Create a simple logistic regression as a baseline model (most likely LASSO)\n",
    "    1. Look at which features are impacting the model the most \n",
    "    2. Examine residuals to see if there are any patterns\n",
    "3. Create 5 different models and try to optimize hyperparameters for each one\n",
    "    1. Try to incorporate Bayesian machine learning for this\n",
    "    2. Random forest, XGBoost, KNN, SVM and/or other models\n",
    "4. Explain\n",
    "    1. Use Shapley plots and partial dependence plots to examine which features are having a heavy impact"
   ]
  },
  {
   "cell_type": "code",
   "execution_count": 1,
   "metadata": {},
   "outputs": [],
   "source": [
    "# Libraries\n",
    "\n",
    "# General data handling\n",
    "import pandas as pd\n",
    "import numpy as np\n",
    "\n",
    "# Visualization libraries\n",
    "import matplotlib.pyplot as plt\n",
    "import seaborn as sns\n",
    "%matplotlib inline\n",
    "import itertools\n",
    "\n",
    "# Preproccessing\n",
    "from sklearn.preprocessing import MinMaxScaler\n",
    "\n",
    "# Machine learning\n",
    "from sklearn.model_selection import train_test_split\n",
    "from sklearn.linear_model import LogisticRegression\n",
    "from sklearn.ensemble import RandomForestClassifier\n",
    "from sklearn.metrics import confusion_matrix\n",
    "import statsmodels.api as sm"
   ]
  },
  {
   "cell_type": "code",
   "execution_count": 2,
   "metadata": {},
   "outputs": [
    {
     "data": {
      "text/html": [
       "<div>\n",
       "<style scoped>\n",
       "    .dataframe tbody tr th:only-of-type {\n",
       "        vertical-align: middle;\n",
       "    }\n",
       "\n",
       "    .dataframe tbody tr th {\n",
       "        vertical-align: top;\n",
       "    }\n",
       "\n",
       "    .dataframe thead th {\n",
       "        text-align: right;\n",
       "    }\n",
       "</style>\n",
       "<table border=\"1\" class=\"dataframe\">\n",
       "  <thead>\n",
       "    <tr style=\"text-align: right;\">\n",
       "      <th></th>\n",
       "      <th>Unnamed: 0</th>\n",
       "      <th>chroma_stft</th>\n",
       "      <th>spectral_centroid</th>\n",
       "      <th>spectral_bandwidth</th>\n",
       "      <th>rolloff</th>\n",
       "      <th>zero_crossing_rate</th>\n",
       "      <th>tempo</th>\n",
       "      <th>mfcc1</th>\n",
       "      <th>mfcc2</th>\n",
       "      <th>mfcc3</th>\n",
       "      <th>...</th>\n",
       "      <th>mfcc12</th>\n",
       "      <th>mfcc13</th>\n",
       "      <th>mfcc14</th>\n",
       "      <th>mfcc15</th>\n",
       "      <th>mfcc16</th>\n",
       "      <th>mfcc17</th>\n",
       "      <th>mfcc18</th>\n",
       "      <th>mfcc19</th>\n",
       "      <th>mfcc20</th>\n",
       "      <th>year</th>\n",
       "    </tr>\n",
       "  </thead>\n",
       "  <tbody>\n",
       "    <tr>\n",
       "      <td>0</td>\n",
       "      <td>0</td>\n",
       "      <td>0.363986</td>\n",
       "      <td>2401.059417</td>\n",
       "      <td>2076.546309</td>\n",
       "      <td>4578.518963</td>\n",
       "      <td>0.142939</td>\n",
       "      <td>143.554688</td>\n",
       "      <td>-101.293053</td>\n",
       "      <td>80.911797</td>\n",
       "      <td>-31.468838</td>\n",
       "      <td>...</td>\n",
       "      <td>-4.739383</td>\n",
       "      <td>-5.219498</td>\n",
       "      <td>1.211565</td>\n",
       "      <td>-6.387287</td>\n",
       "      <td>-4.388202</td>\n",
       "      <td>-8.856028</td>\n",
       "      <td>-1.255092</td>\n",
       "      <td>-7.835245</td>\n",
       "      <td>3.324323</td>\n",
       "      <td>70</td>\n",
       "    </tr>\n",
       "    <tr>\n",
       "      <td>1</td>\n",
       "      <td>1</td>\n",
       "      <td>0.371134</td>\n",
       "      <td>2182.117885</td>\n",
       "      <td>2181.411130</td>\n",
       "      <td>4396.678014</td>\n",
       "      <td>0.115674</td>\n",
       "      <td>129.199219</td>\n",
       "      <td>-137.059586</td>\n",
       "      <td>96.649780</td>\n",
       "      <td>-21.991995</td>\n",
       "      <td>...</td>\n",
       "      <td>5.272148</td>\n",
       "      <td>-0.419198</td>\n",
       "      <td>0.754667</td>\n",
       "      <td>-4.850885</td>\n",
       "      <td>1.831459</td>\n",
       "      <td>-2.950527</td>\n",
       "      <td>2.594053</td>\n",
       "      <td>-3.899176</td>\n",
       "      <td>1.208894</td>\n",
       "      <td>70</td>\n",
       "    </tr>\n",
       "    <tr>\n",
       "      <td>2</td>\n",
       "      <td>2</td>\n",
       "      <td>0.372060</td>\n",
       "      <td>2083.480222</td>\n",
       "      <td>2226.868050</td>\n",
       "      <td>4253.268072</td>\n",
       "      <td>0.093198</td>\n",
       "      <td>151.999081</td>\n",
       "      <td>-61.852386</td>\n",
       "      <td>107.603745</td>\n",
       "      <td>-15.489427</td>\n",
       "      <td>...</td>\n",
       "      <td>1.476216</td>\n",
       "      <td>-3.695912</td>\n",
       "      <td>1.945223</td>\n",
       "      <td>-1.429356</td>\n",
       "      <td>2.690381</td>\n",
       "      <td>-1.886898</td>\n",
       "      <td>4.012383</td>\n",
       "      <td>-1.108384</td>\n",
       "      <td>2.612668</td>\n",
       "      <td>70</td>\n",
       "    </tr>\n",
       "    <tr>\n",
       "      <td>3</td>\n",
       "      <td>3</td>\n",
       "      <td>0.496388</td>\n",
       "      <td>3127.326896</td>\n",
       "      <td>2534.744190</td>\n",
       "      <td>5930.771650</td>\n",
       "      <td>0.165299</td>\n",
       "      <td>129.199219</td>\n",
       "      <td>-222.085419</td>\n",
       "      <td>39.067898</td>\n",
       "      <td>-1.277756</td>\n",
       "      <td>...</td>\n",
       "      <td>6.969471</td>\n",
       "      <td>4.071969</td>\n",
       "      <td>4.292566</td>\n",
       "      <td>-2.826947</td>\n",
       "      <td>1.429940</td>\n",
       "      <td>-3.145914</td>\n",
       "      <td>-1.143359</td>\n",
       "      <td>-4.597479</td>\n",
       "      <td>-0.074773</td>\n",
       "      <td>70</td>\n",
       "    </tr>\n",
       "    <tr>\n",
       "      <td>4</td>\n",
       "      <td>4</td>\n",
       "      <td>0.380424</td>\n",
       "      <td>2154.853251</td>\n",
       "      <td>2019.318591</td>\n",
       "      <td>4333.828839</td>\n",
       "      <td>0.120366</td>\n",
       "      <td>129.199219</td>\n",
       "      <td>-19.489279</td>\n",
       "      <td>102.166481</td>\n",
       "      <td>-37.214840</td>\n",
       "      <td>...</td>\n",
       "      <td>1.702561</td>\n",
       "      <td>-0.049128</td>\n",
       "      <td>-0.174967</td>\n",
       "      <td>-5.983572</td>\n",
       "      <td>-0.407233</td>\n",
       "      <td>-9.131219</td>\n",
       "      <td>3.295349</td>\n",
       "      <td>-4.523103</td>\n",
       "      <td>2.179559</td>\n",
       "      <td>70</td>\n",
       "    </tr>\n",
       "  </tbody>\n",
       "</table>\n",
       "<p>5 rows × 28 columns</p>\n",
       "</div>"
      ],
      "text/plain": [
       "   Unnamed: 0  chroma_stft  spectral_centroid  spectral_bandwidth  \\\n",
       "0           0     0.363986        2401.059417         2076.546309   \n",
       "1           1     0.371134        2182.117885         2181.411130   \n",
       "2           2     0.372060        2083.480222         2226.868050   \n",
       "3           3     0.496388        3127.326896         2534.744190   \n",
       "4           4     0.380424        2154.853251         2019.318591   \n",
       "\n",
       "       rolloff  zero_crossing_rate       tempo       mfcc1       mfcc2  \\\n",
       "0  4578.518963            0.142939  143.554688 -101.293053   80.911797   \n",
       "1  4396.678014            0.115674  129.199219 -137.059586   96.649780   \n",
       "2  4253.268072            0.093198  151.999081  -61.852386  107.603745   \n",
       "3  5930.771650            0.165299  129.199219 -222.085419   39.067898   \n",
       "4  4333.828839            0.120366  129.199219  -19.489279  102.166481   \n",
       "\n",
       "       mfcc3  ...    mfcc12    mfcc13    mfcc14    mfcc15    mfcc16    mfcc17  \\\n",
       "0 -31.468838  ... -4.739383 -5.219498  1.211565 -6.387287 -4.388202 -8.856028   \n",
       "1 -21.991995  ...  5.272148 -0.419198  0.754667 -4.850885  1.831459 -2.950527   \n",
       "2 -15.489427  ...  1.476216 -3.695912  1.945223 -1.429356  2.690381 -1.886898   \n",
       "3  -1.277756  ...  6.969471  4.071969  4.292566 -2.826947  1.429940 -3.145914   \n",
       "4 -37.214840  ...  1.702561 -0.049128 -0.174967 -5.983572 -0.407233 -9.131219   \n",
       "\n",
       "     mfcc18    mfcc19    mfcc20  year  \n",
       "0 -1.255092 -7.835245  3.324323    70  \n",
       "1  2.594053 -3.899176  1.208894    70  \n",
       "2  4.012383 -1.108384  2.612668    70  \n",
       "3 -1.143359 -4.597479 -0.074773    70  \n",
       "4  3.295349 -4.523103  2.179559    70  \n",
       "\n",
       "[5 rows x 28 columns]"
      ]
     },
     "execution_count": 2,
     "metadata": {},
     "output_type": "execute_result"
    }
   ],
   "source": [
    "# Reading in data\n",
    "df = pd.read_csv(\"../data/revamped_processed_data.csv\")\n",
    "df.head()"
   ]
  },
  {
   "cell_type": "code",
   "execution_count": 3,
   "metadata": {},
   "outputs": [
    {
     "data": {
      "text/html": [
       "<div>\n",
       "<style scoped>\n",
       "    .dataframe tbody tr th:only-of-type {\n",
       "        vertical-align: middle;\n",
       "    }\n",
       "\n",
       "    .dataframe tbody tr th {\n",
       "        vertical-align: top;\n",
       "    }\n",
       "\n",
       "    .dataframe thead th {\n",
       "        text-align: right;\n",
       "    }\n",
       "</style>\n",
       "<table border=\"1\" class=\"dataframe\">\n",
       "  <thead>\n",
       "    <tr style=\"text-align: right;\">\n",
       "      <th></th>\n",
       "      <th>chroma_stft</th>\n",
       "      <th>spectral_centroid</th>\n",
       "      <th>spectral_bandwidth</th>\n",
       "      <th>rolloff</th>\n",
       "      <th>zero_crossing_rate</th>\n",
       "      <th>tempo</th>\n",
       "      <th>mfcc1</th>\n",
       "      <th>mfcc2</th>\n",
       "      <th>mfcc3</th>\n",
       "      <th>mfcc4</th>\n",
       "      <th>...</th>\n",
       "      <th>mfcc12</th>\n",
       "      <th>mfcc13</th>\n",
       "      <th>mfcc14</th>\n",
       "      <th>mfcc15</th>\n",
       "      <th>mfcc16</th>\n",
       "      <th>mfcc17</th>\n",
       "      <th>mfcc18</th>\n",
       "      <th>mfcc19</th>\n",
       "      <th>mfcc20</th>\n",
       "      <th>year</th>\n",
       "    </tr>\n",
       "  </thead>\n",
       "  <tbody>\n",
       "    <tr>\n",
       "      <td>0</td>\n",
       "      <td>0.363986</td>\n",
       "      <td>2401.059417</td>\n",
       "      <td>2076.546309</td>\n",
       "      <td>4578.518963</td>\n",
       "      <td>0.142939</td>\n",
       "      <td>143.554688</td>\n",
       "      <td>-101.293053</td>\n",
       "      <td>80.911797</td>\n",
       "      <td>-31.468838</td>\n",
       "      <td>48.152546</td>\n",
       "      <td>...</td>\n",
       "      <td>-4.739383</td>\n",
       "      <td>-5.219498</td>\n",
       "      <td>1.211565</td>\n",
       "      <td>-6.387287</td>\n",
       "      <td>-4.388202</td>\n",
       "      <td>-8.856028</td>\n",
       "      <td>-1.255092</td>\n",
       "      <td>-7.835245</td>\n",
       "      <td>3.324323</td>\n",
       "      <td>70</td>\n",
       "    </tr>\n",
       "    <tr>\n",
       "      <td>1</td>\n",
       "      <td>0.371134</td>\n",
       "      <td>2182.117885</td>\n",
       "      <td>2181.411130</td>\n",
       "      <td>4396.678014</td>\n",
       "      <td>0.115674</td>\n",
       "      <td>129.199219</td>\n",
       "      <td>-137.059586</td>\n",
       "      <td>96.649780</td>\n",
       "      <td>-21.991995</td>\n",
       "      <td>31.882355</td>\n",
       "      <td>...</td>\n",
       "      <td>5.272148</td>\n",
       "      <td>-0.419198</td>\n",
       "      <td>0.754667</td>\n",
       "      <td>-4.850885</td>\n",
       "      <td>1.831459</td>\n",
       "      <td>-2.950527</td>\n",
       "      <td>2.594053</td>\n",
       "      <td>-3.899176</td>\n",
       "      <td>1.208894</td>\n",
       "      <td>70</td>\n",
       "    </tr>\n",
       "    <tr>\n",
       "      <td>2</td>\n",
       "      <td>0.372060</td>\n",
       "      <td>2083.480222</td>\n",
       "      <td>2226.868050</td>\n",
       "      <td>4253.268072</td>\n",
       "      <td>0.093198</td>\n",
       "      <td>151.999081</td>\n",
       "      <td>-61.852386</td>\n",
       "      <td>107.603745</td>\n",
       "      <td>-15.489427</td>\n",
       "      <td>16.054230</td>\n",
       "      <td>...</td>\n",
       "      <td>1.476216</td>\n",
       "      <td>-3.695912</td>\n",
       "      <td>1.945223</td>\n",
       "      <td>-1.429356</td>\n",
       "      <td>2.690381</td>\n",
       "      <td>-1.886898</td>\n",
       "      <td>4.012383</td>\n",
       "      <td>-1.108384</td>\n",
       "      <td>2.612668</td>\n",
       "      <td>70</td>\n",
       "    </tr>\n",
       "    <tr>\n",
       "      <td>3</td>\n",
       "      <td>0.496388</td>\n",
       "      <td>3127.326896</td>\n",
       "      <td>2534.744190</td>\n",
       "      <td>5930.771650</td>\n",
       "      <td>0.165299</td>\n",
       "      <td>129.199219</td>\n",
       "      <td>-222.085419</td>\n",
       "      <td>39.067898</td>\n",
       "      <td>-1.277756</td>\n",
       "      <td>47.828770</td>\n",
       "      <td>...</td>\n",
       "      <td>6.969471</td>\n",
       "      <td>4.071969</td>\n",
       "      <td>4.292566</td>\n",
       "      <td>-2.826947</td>\n",
       "      <td>1.429940</td>\n",
       "      <td>-3.145914</td>\n",
       "      <td>-1.143359</td>\n",
       "      <td>-4.597479</td>\n",
       "      <td>-0.074773</td>\n",
       "      <td>70</td>\n",
       "    </tr>\n",
       "    <tr>\n",
       "      <td>4</td>\n",
       "      <td>0.380424</td>\n",
       "      <td>2154.853251</td>\n",
       "      <td>2019.318591</td>\n",
       "      <td>4333.828839</td>\n",
       "      <td>0.120366</td>\n",
       "      <td>129.199219</td>\n",
       "      <td>-19.489279</td>\n",
       "      <td>102.166481</td>\n",
       "      <td>-37.214840</td>\n",
       "      <td>37.334339</td>\n",
       "      <td>...</td>\n",
       "      <td>1.702561</td>\n",
       "      <td>-0.049128</td>\n",
       "      <td>-0.174967</td>\n",
       "      <td>-5.983572</td>\n",
       "      <td>-0.407233</td>\n",
       "      <td>-9.131219</td>\n",
       "      <td>3.295349</td>\n",
       "      <td>-4.523103</td>\n",
       "      <td>2.179559</td>\n",
       "      <td>70</td>\n",
       "    </tr>\n",
       "  </tbody>\n",
       "</table>\n",
       "<p>5 rows × 27 columns</p>\n",
       "</div>"
      ],
      "text/plain": [
       "   chroma_stft  spectral_centroid  spectral_bandwidth      rolloff  \\\n",
       "0     0.363986        2401.059417         2076.546309  4578.518963   \n",
       "1     0.371134        2182.117885         2181.411130  4396.678014   \n",
       "2     0.372060        2083.480222         2226.868050  4253.268072   \n",
       "3     0.496388        3127.326896         2534.744190  5930.771650   \n",
       "4     0.380424        2154.853251         2019.318591  4333.828839   \n",
       "\n",
       "   zero_crossing_rate       tempo       mfcc1       mfcc2      mfcc3  \\\n",
       "0            0.142939  143.554688 -101.293053   80.911797 -31.468838   \n",
       "1            0.115674  129.199219 -137.059586   96.649780 -21.991995   \n",
       "2            0.093198  151.999081  -61.852386  107.603745 -15.489427   \n",
       "3            0.165299  129.199219 -222.085419   39.067898  -1.277756   \n",
       "4            0.120366  129.199219  -19.489279  102.166481 -37.214840   \n",
       "\n",
       "       mfcc4  ...    mfcc12    mfcc13    mfcc14    mfcc15    mfcc16    mfcc17  \\\n",
       "0  48.152546  ... -4.739383 -5.219498  1.211565 -6.387287 -4.388202 -8.856028   \n",
       "1  31.882355  ...  5.272148 -0.419198  0.754667 -4.850885  1.831459 -2.950527   \n",
       "2  16.054230  ...  1.476216 -3.695912  1.945223 -1.429356  2.690381 -1.886898   \n",
       "3  47.828770  ...  6.969471  4.071969  4.292566 -2.826947  1.429940 -3.145914   \n",
       "4  37.334339  ...  1.702561 -0.049128 -0.174967 -5.983572 -0.407233 -9.131219   \n",
       "\n",
       "     mfcc18    mfcc19    mfcc20  year  \n",
       "0 -1.255092 -7.835245  3.324323    70  \n",
       "1  2.594053 -3.899176  1.208894    70  \n",
       "2  4.012383 -1.108384  2.612668    70  \n",
       "3 -1.143359 -4.597479 -0.074773    70  \n",
       "4  3.295349 -4.523103  2.179559    70  \n",
       "\n",
       "[5 rows x 27 columns]"
      ]
     },
     "execution_count": 3,
     "metadata": {},
     "output_type": "execute_result"
    }
   ],
   "source": [
    "# Removing random first column\n",
    "df = df.iloc[:,1:29]\n",
    "df.head()"
   ]
  },
  {
   "cell_type": "markdown",
   "metadata": {},
   "source": [
    "Now that we have our data, let's divide it into training and validation data. "
   ]
  },
  {
   "cell_type": "code",
   "execution_count": 4,
   "metadata": {},
   "outputs": [],
   "source": [
    "X = df.iloc[:, 0:26]\n",
    "y = df['year']\n",
    "y = y.astype('category')\n",
    "\n",
    "X_train, X_val, y_train, y_val = train_test_split(X, y, test_size = 0.33)"
   ]
  },
  {
   "cell_type": "markdown",
   "metadata": {},
   "source": [
    "## 1. Baseline Model\n",
    "\n",
    "Let's first make a baseline logistic regression model to predict the different classes. From this model, we can examine any important features and residuals to note any interesting patterns\n",
    "\n",
    "https://stats.stackexchange.com/questions/52104/multinomial-logistic-regression-vs-one-vs-rest-binary-logistic-regression"
   ]
  },
  {
   "cell_type": "code",
   "execution_count": 16,
   "metadata": {},
   "outputs": [
    {
     "name": "stdout",
     "output_type": "stream",
     "text": [
      "Log accuracy:  0.6622950819672131\n"
     ]
    },
    {
     "name": "stderr",
     "output_type": "stream",
     "text": [
      "/Users/aaronabraham/Documents/Programming/Python/SoundOff/env/lib/python3.7/site-packages/sklearn/linear_model/logistic.py:432: FutureWarning: Default solver will be changed to 'lbfgs' in 0.22. Specify a solver to silence this warning.\n",
      "  FutureWarning)\n",
      "/Users/aaronabraham/Documents/Programming/Python/SoundOff/env/lib/python3.7/site-packages/sklearn/linear_model/logistic.py:469: FutureWarning: Default multi_class will be changed to 'auto' in 0.22. Specify the multi_class option to silence this warning.\n",
      "  \"this warning.\", FutureWarning)\n"
     ]
    }
   ],
   "source": [
    "log_clf = LogisticRegression().fit(X_train, y_train)\n",
    "log_accuracy = log_clf.score(X_val, y_val)\n",
    "log_confusion_matrix = confusion_matrix(y_val,log_clf.predict(X_val))\n",
    "print(\"Log accuracy: \", log_accuracy)"
   ]
  },
  {
   "cell_type": "raw",
   "metadata": {},
   "source": [
    "Wow! This did much better than our previous results! This is a huge improvement from the 15-30% that we had gotten from our previous experiences. "
   ]
  },
  {
   "cell_type": "code",
   "execution_count": 17,
   "metadata": {},
   "outputs": [
    {
     "name": "stdout",
     "output_type": "stream",
     "text": [
      "Rf accuracy:  0.5836065573770491\n"
     ]
    },
    {
     "name": "stderr",
     "output_type": "stream",
     "text": [
      "/Users/aaronabraham/Documents/Programming/Python/SoundOff/env/lib/python3.7/site-packages/sklearn/ensemble/forest.py:245: FutureWarning: The default value of n_estimators will change from 10 in version 0.20 to 100 in 0.22.\n",
      "  \"10 in version 0.20 to 100 in 0.22.\", FutureWarning)\n"
     ]
    }
   ],
   "source": [
    "rf_clf = RandomForestClassifier().fit(X_train, y_train)\n",
    "rf_accuracy = rf_clf.score(X_val, y_val)\n",
    "rf_confusion_matrix = confusion_matrix(y_val, rf_clf.predict(X_val))\n",
    "print(\"Rf accuracy: \", rf_accuracy)"
   ]
  },
  {
   "cell_type": "markdown",
   "metadata": {},
   "source": [
    "Wow! I am actually quite impressed by how well my models are working. Given that previous results only gave us 10-30% accuracy, this is actually highly encouraging. "
   ]
  },
  {
   "cell_type": "code",
   "execution_count": 19,
   "metadata": {},
   "outputs": [],
   "source": [
    "def plot_confusion_matrix(cm, classes,\n",
    "                          normalize=False,\n",
    "                          title='Confusion matrix',\n",
    "                          cmap=plt.cm.Blues):\n",
    "    \"\"\"\n",
    "    This function prints and plots the confusion matrix.\n",
    "    Normalization can be applied by setting `normalize=True`.\n",
    "    \"\"\"\n",
    "    if normalize:\n",
    "        cm = cm.astype('float') / cm.sum(axis=1)[:, np.newaxis]\n",
    "        print(\"Normalized confusion matrix\")\n",
    "    else:\n",
    "        print('Confusion matrix, without normalization')\n",
    "\n",
    "    print(cm)\n",
    "\n",
    "    plt.imshow(cm, interpolation='nearest', cmap=cmap)\n",
    "    plt.title(title)\n",
    "    plt.colorbar()\n",
    "    tick_marks = np.arange(len(classes))\n",
    "    plt.xticks(tick_marks, classes, rotation=45)\n",
    "    plt.yticks(tick_marks, classes)\n",
    "\n",
    "    fmt = '.2f' if normalize else 'd'\n",
    "    thresh = cm.max() / 2.\n",
    "    for i, j in itertools.product(range(cm.shape[0]), range(cm.shape[1])):\n",
    "        plt.text(j, i, format(cm[i, j], fmt),\n",
    "                 horizontalalignment=\"center\",\n",
    "                 color=\"white\" if cm[i, j] > thresh else \"black\")\n",
    "\n",
    "    plt.ylabel('True label')\n",
    "    plt.xlabel('Predicted label')\n",
    "    plt.tight_layout()"
   ]
  },
  {
   "cell_type": "code",
   "execution_count": 20,
   "metadata": {},
   "outputs": [
    {
     "name": "stdout",
     "output_type": "stream",
     "text": [
      "Confusion matrix, without normalization\n",
      "[[ 17  34   7   0   0]\n",
      " [  5 162   6   0   0]\n",
      " [  3  16  22   2   0]\n",
      " [  1   3  10   1   0]\n",
      " [  0  12   4   0   0]]\n"
     ]
    },
    {
     "data": {
      "image/png": "[encoded data removed]",
      "text/plain": [
       "<Figure size 432x288 with 2 Axes>"
      ]
     },
     "metadata": {
      "needs_background": "light"
     },
     "output_type": "display_data"
    }
   ],
   "source": [
    "# Plot non-normalized confusion matrix\n",
    "plt.figure()\n",
    "plot_confusion_matrix(log_confusion_matrix, classes=['70', '80', '90', '00', '10'],\n",
    "                      title='Logistic regression confusion matrix')"
   ]
  },
  {
   "cell_type": "code",
   "execution_count": 21,
   "metadata": {},
   "outputs": [
    {
     "name": "stdout",
     "output_type": "stream",
     "text": [
      "Confusion matrix, without normalization\n",
      "[[ 13  39   6   0   0]\n",
      " [ 18 146   9   0   0]\n",
      " [ 11  13  19   0   0]\n",
      " [  1   7   6   0   1]\n",
      " [  3  10   3   0   0]]\n"
     ]
    },
    {
     "data": {
      "image/png": "[encoded data removed]",
      "text/plain": [
       "<Figure size 432x288 with 2 Axes>"
      ]
     },
     "metadata": {
      "needs_background": "light"
     },
     "output_type": "display_data"
    }
   ],
   "source": [
    "plt.figure()\n",
    "plot_confusion_matrix(rf_confusion_matrix, classes=['70', '80', '90', '00', '10'],\n",
    "                      title='Random forest confusion matrix')"
   ]
  },
  {
   "cell_type": "markdown",
   "metadata": {},
   "source": [
    "We can see a few patterns:\n",
    "1. No 2010 songs were correctly classified\n",
    "2. Lots of 1980 songs were correctly classified\n",
    "\n",
    "I would have liked to look at the underlying math behind the logistic regression model, specifically the odds ratios of the different variables. Given that we are looking at a multi-class classification and variables that are not necessarily in the 0-1 range, I will doing the following\n",
    "1. Look at a one-vs-all classifier between 1980 songs and everything else. \n",
    "2. We can do a little bit of analysis based on that. "
   ]
  },
  {
   "cell_type": "code",
   "execution_count": 5,
   "metadata": {},
   "outputs": [],
   "source": [
    "logit_x = X_train\n",
    "logit_y = y_train\n",
    "\n",
    "col_names = logit_x.columns\n",
    "\n",
    "logit_x = pd.DataFrame(MinMaxScaler().fit_transform(logit_x))\n",
    "logit_x.columns = col_names"
   ]
  },
  {
   "cell_type": "code",
   "execution_count": 18,
   "metadata": {},
   "outputs": [],
   "source": [
    "logit_y = logit_y.apply(lambda x: 1 if x == 80 else 0)"
   ]
  },
  {
   "cell_type": "code",
   "execution_count": 19,
   "metadata": {},
   "outputs": [
    {
     "data": {
      "text/plain": [
       "0    589\n",
       "1     28\n",
       "Name: year, dtype: int64"
      ]
     },
     "execution_count": 19,
     "metadata": {},
     "output_type": "execute_result"
    }
   ],
   "source": [
    "logit_y.value_counts()"
   ]
  },
  {
   "cell_type": "code",
   "execution_count": 26,
   "metadata": {},
   "outputs": [
    {
     "name": "stdout",
     "output_type": "stream",
     "text": [
      "Optimization terminated successfully.\n",
      "         Current function value: 0.118129\n",
      "         Iterations 9\n"
     ]
    }
   ],
   "source": [
    "logit = sm.Logit(list(logit_y), logit_x)\n",
    "result = logit.fit()"
   ]
  },
  {
   "cell_type": "code",
   "execution_count": 27,
   "metadata": {},
   "outputs": [
    {
     "name": "stdout",
     "output_type": "stream",
     "text": [
      "                           Logit Regression Results                           \n",
      "==============================================================================\n",
      "Dep. Variable:                      y   No. Observations:                  617\n",
      "Model:                          Logit   Df Residuals:                      591\n",
      "Method:                           MLE   Df Model:                           25\n",
      "Date:                Tue, 31 Dec 2019   Pseudo R-squ.:                  0.3604\n",
      "Time:                        15:34:20   Log-Likelihood:                -72.886\n",
      "converged:                       True   LL-Null:                       -113.95\n",
      "Covariance Type:            nonrobust   LLR p-value:                 5.275e-08\n",
      "======================================================================================\n",
      "                         coef    std err          z      P>|z|      [0.025      0.975]\n",
      "--------------------------------------------------------------------------------------\n",
      "chroma_stft           -2.5239      2.194     -1.150      0.250      -6.825       1.777\n",
      "spectral_centroid     -7.7419     16.359     -0.473      0.636     -39.806      24.322\n",
      "spectral_bandwidth    -4.8259     10.573     -0.456      0.648     -25.549      15.897\n",
      "rolloff                8.1293     13.898      0.585      0.559     -19.109      35.368\n",
      "zero_crossing_rate     7.7302      6.759      1.144      0.253      -5.518      20.978\n",
      "tempo                 -1.1045      1.187     -0.930      0.352      -3.432       1.223\n",
      "mfcc1                 -0.4684      1.554     -0.301      0.763      -3.514       2.577\n",
      "mfcc2                 -1.5521      3.146     -0.493      0.622      -7.718       4.614\n",
      "mfcc3                  2.4472      3.560      0.687      0.492      -4.531       9.426\n",
      "mfcc4                  4.1853      2.241      1.868      0.062      -0.207       8.577\n",
      "mfcc5                 -6.0925      2.288     -2.662      0.008     -10.577      -1.608\n",
      "mfcc6                  4.0964      2.813      1.456      0.145      -1.417       9.610\n",
      "mfcc7                  6.9096      2.381      2.902      0.004       2.243      11.576\n",
      "mfcc8                 -5.6148      3.118     -1.801      0.072     -11.725       0.496\n",
      "mfcc9                 -3.0496      2.901     -1.051      0.293      -8.735       2.636\n",
      "mfcc10                 5.5379      3.170      1.747      0.081      -0.675      11.750\n",
      "mfcc11                 0.5409      2.820      0.192      0.848      -4.987       6.068\n",
      "mfcc12                -2.0690      2.923     -0.708      0.479      -7.798       3.660\n",
      "mfcc13                -1.0208      2.523     -0.405      0.686      -5.966       3.924\n",
      "mfcc14                 3.1573      2.207      1.430      0.153      -1.169       7.483\n",
      "mfcc15                 4.8646      2.424      2.007      0.045       0.113       9.616\n",
      "mfcc16                -3.0400      2.420     -1.256      0.209      -7.783       1.703\n",
      "mfcc17                -8.7826      2.948     -2.980      0.003     -14.560      -3.005\n",
      "mfcc18                 0.9505      2.127      0.447      0.655      -3.218       5.119\n",
      "mfcc19                 2.5747      2.807      0.917      0.359      -2.926       8.076\n",
      "mfcc20                -5.7900      2.558     -2.264      0.024     -10.803      -0.777\n",
      "======================================================================================\n"
     ]
    }
   ],
   "source": [
    "print(result.summary())"
   ]
  },
  {
   "cell_type": "markdown",
   "metadata": {},
   "source": [
    "This gave us some interesting results. Let's look into some of the confidence intervals of these variables. "
   ]
  },
  {
   "cell_type": "code",
   "execution_count": 28,
   "metadata": {},
   "outputs": [
    {
     "name": "stdout",
     "output_type": "stream",
     "text": [
      "                            0          1\n",
      "chroma_stft         -6.824908   1.777034\n",
      "spectral_centroid  -39.805503  24.321623\n",
      "spectral_bandwidth -25.548774  15.897040\n",
      "rolloff            -19.109441  35.368005\n",
      "zero_crossing_rate  -5.517765  20.978118\n",
      "tempo               -3.431702   1.222798\n",
      "mfcc1               -3.514143   2.577395\n",
      "mfcc2               -7.718250   4.614097\n",
      "mfcc3               -4.531279   9.425597\n",
      "mfcc4               -0.206664   8.577260\n",
      "mfcc5              -10.577495  -1.607556\n",
      "mfcc6               -1.416939   9.609786\n",
      "mfcc7                2.242845  11.576446\n",
      "mfcc8              -11.725148   0.495565\n",
      "mfcc9               -8.735400   2.636198\n",
      "mfcc10              -0.674653  11.750433\n",
      "mfcc11              -4.986767   6.068472\n",
      "mfcc12              -7.797707   3.659725\n",
      "mfcc13              -5.965963   3.924264\n",
      "mfcc14              -1.168773   7.483315\n",
      "mfcc15               0.113297   9.615805\n",
      "mfcc16              -7.783439   1.703387\n",
      "mfcc17             -14.559859  -3.005353\n",
      "mfcc18              -3.218055   5.119154\n",
      "mfcc19              -2.926388   8.075857\n",
      "mfcc20             -10.803281  -0.776807\n"
     ]
    }
   ],
   "source": [
    "print(result.conf_int())"
   ]
  },
  {
   "cell_type": "markdown",
   "metadata": {},
   "source": [
    "For 1980, we can see only 3 variables that correlate to any noticeable increase in the probability that it is a 1980 song: MFCC 5, 17 and 20. Everything else did not get us much help in improving our predictions. \n",
    "\n",
    "Let's look at the odds ratios:"
   ]
  },
  {
   "cell_type": "code",
   "execution_count": 29,
   "metadata": {},
   "outputs": [
    {
     "name": "stdout",
     "output_type": "stream",
     "text": [
      "chroma_stft              0.080143\n",
      "spectral_centroid        0.000434\n",
      "spectral_bandwidth       0.008020\n",
      "rolloff               3392.361894\n",
      "zero_crossing_rate    2276.003750\n",
      "tempo                    0.331392\n",
      "mfcc1                    0.626019\n",
      "mfcc2                    0.211808\n",
      "mfcc3                   11.555471\n",
      "mfcc4                   65.713090\n",
      "mfcc5                    0.002260\n",
      "mfcc6                   60.124888\n",
      "mfcc7                 1001.891700\n",
      "mfcc8                    0.003644\n",
      "mfcc9                    0.047378\n",
      "mfcc10                 254.141251\n",
      "mfcc11                   1.717471\n",
      "mfcc12                   0.126313\n",
      "mfcc13                   0.360289\n",
      "mfcc14                  23.506363\n",
      "mfcc15                 129.612722\n",
      "mfcc16                   0.047834\n",
      "mfcc17                   0.000153\n",
      "mfcc18                   2.587132\n",
      "mfcc19                  13.127828\n",
      "mfcc20                   0.003058\n",
      "dtype: float64\n"
     ]
    }
   ],
   "source": [
    "print(np.exp(result.params))"
   ]
  },
  {
   "cell_type": "markdown",
   "metadata": {},
   "source": [
    "The odds ratio signifes how much the probability of a song being classified as a 1980 song be if each of those variables were to increase by 1 unit. Some of these results don't make much sense, mainly because we had done some min-max scaling to put each variable in the range of 1 unit. "
   ]
  }
 ],
 "metadata": {
  "kernelspec": {
   "display_name": "env",
   "language": "python",
   "name": "env"
  },
  "language_info": {
   "codemirror_mode": {
    "name": "ipython",
    "version": 3
   },
   "file_extension": ".py",
   "mimetype": "text/x-python",
   "name": "python",
   "nbconvert_exporter": "python",
   "pygments_lexer": "ipython3",
   "version": "3.7.3"
  }
 },
 "nbformat": 4,
 "nbformat_minor": 2
}
