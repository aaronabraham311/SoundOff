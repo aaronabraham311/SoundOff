{
 "cells": [
  {
   "cell_type": "markdown",
   "metadata": {},
   "source": [
    "# EDA\n",
    "\n",
    "Before we get into actual machine learning. I wanted to look at the patterns in the dataset in order to think of feature selection/augmentation that I could perform in the machine learning phase of the project. "
   ]
  },
  {
   "cell_type": "code",
   "execution_count": 28,
   "metadata": {},
   "outputs": [],
   "source": [
    "# Libraries\n",
    "import pandas as pd\n",
    "import numpy as np\n",
    "\n",
    "import matplotlib.pyplot as plt\n",
    "import seaborn as sns\n",
    "%matplotlib inline\n",
    "\n",
    "from scipy import stats\n",
    "\n",
    "plt.rcParams['figure.figsize'] = [20,10]"
   ]
  },
  {
   "cell_type": "code",
   "execution_count": 2,
   "metadata": {},
   "outputs": [
    {
     "data": {
      "text/html": [
       "<div>\n",
       "<style scoped>\n",
       "    .dataframe tbody tr th:only-of-type {\n",
       "        vertical-align: middle;\n",
       "    }\n",
       "\n",
       "    .dataframe tbody tr th {\n",
       "        vertical-align: top;\n",
       "    }\n",
       "\n",
       "    .dataframe thead th {\n",
       "        text-align: right;\n",
       "    }\n",
       "</style>\n",
       "<table border=\"1\" class=\"dataframe\">\n",
       "  <thead>\n",
       "    <tr style=\"text-align: right;\">\n",
       "      <th></th>\n",
       "      <th>filename</th>\n",
       "      <th>chroma_stft</th>\n",
       "      <th>spectral_centroid</th>\n",
       "      <th>spectral_bandwidth</th>\n",
       "      <th>rolloff</th>\n",
       "      <th>zero_crossing_rate</th>\n",
       "      <th>tempo</th>\n",
       "      <th>mfcc1</th>\n",
       "      <th>mfcc2</th>\n",
       "      <th>mfcc3</th>\n",
       "      <th>...</th>\n",
       "      <th>mfcc12</th>\n",
       "      <th>mfcc13</th>\n",
       "      <th>mfcc14</th>\n",
       "      <th>mfcc15</th>\n",
       "      <th>mfcc16</th>\n",
       "      <th>mfcc17</th>\n",
       "      <th>mfcc18</th>\n",
       "      <th>mfcc19</th>\n",
       "      <th>mfcc20</th>\n",
       "      <th>label</th>\n",
       "    </tr>\n",
       "  </thead>\n",
       "  <tbody>\n",
       "    <tr>\n",
       "      <td>0</td>\n",
       "      <td>cooler_than_me.mp3</td>\n",
       "      <td>0.427503</td>\n",
       "      <td>2869.828620</td>\n",
       "      <td>2677.180491</td>\n",
       "      <td>6014.937118</td>\n",
       "      <td>0.133024</td>\n",
       "      <td>[129.19921875]</td>\n",
       "      <td>-12.486107</td>\n",
       "      <td>66.946167</td>\n",
       "      <td>0.302483</td>\n",
       "      <td>...</td>\n",
       "      <td>2.956805</td>\n",
       "      <td>-4.295158</td>\n",
       "      <td>0.656407</td>\n",
       "      <td>-4.171000</td>\n",
       "      <td>0.771177</td>\n",
       "      <td>-1.440347</td>\n",
       "      <td>1.546116</td>\n",
       "      <td>-3.990371</td>\n",
       "      <td>2.771891</td>\n",
       "      <td>2010</td>\n",
       "    </tr>\n",
       "    <tr>\n",
       "      <td>1</td>\n",
       "      <td>airplanes.mp3</td>\n",
       "      <td>0.423003</td>\n",
       "      <td>2371.365987</td>\n",
       "      <td>2335.975387</td>\n",
       "      <td>4883.348314</td>\n",
       "      <td>0.111172</td>\n",
       "      <td>[92.28515625]</td>\n",
       "      <td>-19.895674</td>\n",
       "      <td>88.955681</td>\n",
       "      <td>-16.760706</td>\n",
       "      <td>...</td>\n",
       "      <td>2.093508</td>\n",
       "      <td>-5.614816</td>\n",
       "      <td>2.615297</td>\n",
       "      <td>-4.192569</td>\n",
       "      <td>2.258908</td>\n",
       "      <td>-5.238406</td>\n",
       "      <td>2.319968</td>\n",
       "      <td>-3.514364</td>\n",
       "      <td>2.430466</td>\n",
       "      <td>2010</td>\n",
       "    </tr>\n",
       "    <tr>\n",
       "      <td>2</td>\n",
       "      <td>in_my_head.mp3</td>\n",
       "      <td>0.356209</td>\n",
       "      <td>3011.418486</td>\n",
       "      <td>2711.790253</td>\n",
       "      <td>6264.323144</td>\n",
       "      <td>0.145706</td>\n",
       "      <td>[112.34714674]</td>\n",
       "      <td>-22.311823</td>\n",
       "      <td>56.398441</td>\n",
       "      <td>-11.291659</td>\n",
       "      <td>...</td>\n",
       "      <td>0.385180</td>\n",
       "      <td>-5.598175</td>\n",
       "      <td>3.440188</td>\n",
       "      <td>-7.220667</td>\n",
       "      <td>-0.522158</td>\n",
       "      <td>-4.795784</td>\n",
       "      <td>2.379431</td>\n",
       "      <td>-3.509303</td>\n",
       "      <td>1.032190</td>\n",
       "      <td>2010</td>\n",
       "    </tr>\n",
       "    <tr>\n",
       "      <td>3</td>\n",
       "      <td>tik_tok.mp3</td>\n",
       "      <td>0.389041</td>\n",
       "      <td>2566.800494</td>\n",
       "      <td>2495.921945</td>\n",
       "      <td>5313.328220</td>\n",
       "      <td>0.120453</td>\n",
       "      <td>[117.45383523]</td>\n",
       "      <td>-32.024670</td>\n",
       "      <td>74.238457</td>\n",
       "      <td>-4.407170</td>\n",
       "      <td>...</td>\n",
       "      <td>2.125536</td>\n",
       "      <td>-6.483168</td>\n",
       "      <td>2.310317</td>\n",
       "      <td>-2.311590</td>\n",
       "      <td>-0.336032</td>\n",
       "      <td>-2.307950</td>\n",
       "      <td>0.711338</td>\n",
       "      <td>-3.418213</td>\n",
       "      <td>4.908051</td>\n",
       "      <td>2010</td>\n",
       "    </tr>\n",
       "    <tr>\n",
       "      <td>4</td>\n",
       "      <td>love_the_the_way_you_lie.mp3</td>\n",
       "      <td>0.409369</td>\n",
       "      <td>2796.553570</td>\n",
       "      <td>2507.576350</td>\n",
       "      <td>5479.505082</td>\n",
       "      <td>0.158967</td>\n",
       "      <td>[117.45383523]</td>\n",
       "      <td>-39.791149</td>\n",
       "      <td>74.725708</td>\n",
       "      <td>-19.090473</td>\n",
       "      <td>...</td>\n",
       "      <td>0.675785</td>\n",
       "      <td>-6.952001</td>\n",
       "      <td>2.451728</td>\n",
       "      <td>-6.098280</td>\n",
       "      <td>0.664110</td>\n",
       "      <td>-6.628310</td>\n",
       "      <td>0.223306</td>\n",
       "      <td>-3.690106</td>\n",
       "      <td>-0.426928</td>\n",
       "      <td>2010</td>\n",
       "    </tr>\n",
       "  </tbody>\n",
       "</table>\n",
       "<p>5 rows × 28 columns</p>\n",
       "</div>"
      ],
      "text/plain": [
       "                       filename  chroma_stft  spectral_centroid  \\\n",
       "0            cooler_than_me.mp3     0.427503        2869.828620   \n",
       "1                 airplanes.mp3     0.423003        2371.365987   \n",
       "2                in_my_head.mp3     0.356209        3011.418486   \n",
       "3                   tik_tok.mp3     0.389041        2566.800494   \n",
       "4  love_the_the_way_you_lie.mp3     0.409369        2796.553570   \n",
       "\n",
       "   spectral_bandwidth      rolloff  zero_crossing_rate           tempo  \\\n",
       "0         2677.180491  6014.937118            0.133024  [129.19921875]   \n",
       "1         2335.975387  4883.348314            0.111172   [92.28515625]   \n",
       "2         2711.790253  6264.323144            0.145706  [112.34714674]   \n",
       "3         2495.921945  5313.328220            0.120453  [117.45383523]   \n",
       "4         2507.576350  5479.505082            0.158967  [117.45383523]   \n",
       "\n",
       "       mfcc1      mfcc2      mfcc3  ...    mfcc12    mfcc13    mfcc14  \\\n",
       "0 -12.486107  66.946167   0.302483  ...  2.956805 -4.295158  0.656407   \n",
       "1 -19.895674  88.955681 -16.760706  ...  2.093508 -5.614816  2.615297   \n",
       "2 -22.311823  56.398441 -11.291659  ...  0.385180 -5.598175  3.440188   \n",
       "3 -32.024670  74.238457  -4.407170  ...  2.125536 -6.483168  2.310317   \n",
       "4 -39.791149  74.725708 -19.090473  ...  0.675785 -6.952001  2.451728   \n",
       "\n",
       "     mfcc15    mfcc16    mfcc17    mfcc18    mfcc19    mfcc20  label  \n",
       "0 -4.171000  0.771177 -1.440347  1.546116 -3.990371  2.771891   2010  \n",
       "1 -4.192569  2.258908 -5.238406  2.319968 -3.514364  2.430466   2010  \n",
       "2 -7.220667 -0.522158 -4.795784  2.379431 -3.509303  1.032190   2010  \n",
       "3 -2.311590 -0.336032 -2.307950  0.711338 -3.418213  4.908051   2010  \n",
       "4 -6.098280  0.664110 -6.628310  0.223306 -3.690106 -0.426928   2010  \n",
       "\n",
       "[5 rows x 28 columns]"
      ]
     },
     "execution_count": 2,
     "metadata": {},
     "output_type": "execute_result"
    }
   ],
   "source": [
    "data = pd.read_csv('../data.csv')\n",
    "data.head()"
   ]
  },
  {
   "cell_type": "markdown",
   "metadata": {},
   "source": [
    "I want to convert some columns into different types, such as the year column into a categorical data column, Also, the tempo column is stuck in an array, so I would like to change that as well."
   ]
  },
  {
   "cell_type": "code",
   "execution_count": 3,
   "metadata": {},
   "outputs": [
    {
     "data": {
      "text/plain": [
       "filename               object\n",
       "chroma_stft           float64\n",
       "spectral_centroid     float64\n",
       "spectral_bandwidth    float64\n",
       "rolloff               float64\n",
       "zero_crossing_rate    float64\n",
       "tempo                  object\n",
       "mfcc1                 float64\n",
       "mfcc2                 float64\n",
       "mfcc3                 float64\n",
       "mfcc4                 float64\n",
       "mfcc5                 float64\n",
       "mfcc6                 float64\n",
       "mfcc7                 float64\n",
       "mfcc8                 float64\n",
       "mfcc9                 float64\n",
       "mfcc10                float64\n",
       "mfcc11                float64\n",
       "mfcc12                float64\n",
       "mfcc13                float64\n",
       "mfcc14                float64\n",
       "mfcc15                float64\n",
       "mfcc16                float64\n",
       "mfcc17                float64\n",
       "mfcc18                float64\n",
       "mfcc19                float64\n",
       "mfcc20                float64\n",
       "label                   int64\n",
       "dtype: object"
      ]
     },
     "execution_count": 3,
     "metadata": {},
     "output_type": "execute_result"
    }
   ],
   "source": [
    "data.dtypes"
   ]
  },
  {
   "cell_type": "code",
   "execution_count": 4,
   "metadata": {},
   "outputs": [],
   "source": [
    "# Changing label into categorical object\n",
    "data['label'] = data['label'].astype('category')"
   ]
  },
  {
   "cell_type": "code",
   "execution_count": 5,
   "metadata": {},
   "outputs": [],
   "source": [
    "# Fixing up tempo column\n",
    "data['tempo'] = data['tempo'].apply(lambda x: x.replace('[', ''))\n",
    "data['tempo'] = data['tempo'].apply(lambda x: x.replace(']', ''))\n",
    "data['tempo'] = data['tempo'].astype('float64')"
   ]
  },
  {
   "cell_type": "code",
   "execution_count": 6,
   "metadata": {},
   "outputs": [],
   "source": [
    "# Removing .mp3 prefix\n",
    "data['filename'] = data['filename'].apply(lambda x: x.replace('.mp3', ''))"
   ]
  },
  {
   "cell_type": "markdown",
   "metadata": {},
   "source": [
    "Here are some questions that I would like to answer via exploratory data analysis\n",
    "1. What are some of the factors that have changed in music over the years?\n",
    "    1. Look at scatterplots of each variable for each year\n",
    "    2. Perform correlation tests (most likely perform a regression slope test)\n",
    "    3. Perform student's t-tests/ANOVA/some other statistical test to see if t\n",
    "2. What are some factors that have remained the same in music over the years?\n",
    "    1. Perform the same type of analysis\n",
    "3. Are there any features that highly correlated with each other?\n",
    "    1. Look at correlation coefficients over the year\n",
    "    2. Look at univariate plots\n",
    "4. Are there any distinct groups of songs based on features? Why are they grouped together\n",
    "    1. Create scatterplots and analyze grouping\n",
    "    2. Again, perform statistical tests to see if the songs are actually different\n",
    "5. Outlier analysis"
   ]
  },
  {
   "cell_type": "markdown",
   "metadata": {},
   "source": [
    "## 1. Factors that Have Changed\n",
    "Let's look at the boxplots of these variables over the years and see if there are any appreciable changes."
   ]
  },
  {
   "cell_type": "code",
   "execution_count": 25,
   "metadata": {},
   "outputs": [
    {
     "data": {
      "text/plain": [
       "<matplotlib.axes._subplots.AxesSubplot at 0x132b18710>"
      ]
     },
     "execution_count": 25,
     "metadata": {},
     "output_type": "execute_result"
    },
    {
     "data": {
      "image/png": "[encoded data removed]",
      "text/plain": [
       "<Figure size 1440x720 with 1 Axes>"
      ]
     },
     "metadata": {
      "needs_background": "light"
     },
     "output_type": "display_data"
    }
   ],
   "source": [
    "# Chroma_stft\n",
    "sns.boxplot(y = 'chroma_stft', x = 'label',\n",
    "           data = data,\n",
    "            width = 0.5,\n",
    "           palette = 'colorblind')"
   ]
  },
  {
   "cell_type": "code",
   "execution_count": 26,
   "metadata": {},
   "outputs": [
    {
     "data": {
      "text/plain": [
       "<matplotlib.axes._subplots.AxesSubplot at 0x132ef0240>"
      ]
     },
     "execution_count": 26,
     "metadata": {},
     "output_type": "execute_result"
    },
    {
     "data": {
      "image/png": "[encoded data removed]",
      "text/plain": [
       "<Figure size 1440x720 with 1 Axes>"
      ]
     },
     "metadata": {
      "needs_background": "light"
     },
     "output_type": "display_data"
    }
   ],
   "source": [
    "# spectral_centroid\n",
    "sns.boxplot(y = 'spectral_centroid', x = 'label',\n",
    "           data = data,\n",
    "            width = 0.5,\n",
    "           palette = 'colorblind')"
   ]
  },
  {
   "cell_type": "code",
   "execution_count": 19,
   "metadata": {},
   "outputs": [
    {
     "data": {
      "text/plain": [
       "<matplotlib.axes._subplots.AxesSubplot at 0x12f4eaf28>"
      ]
     },
     "execution_count": 19,
     "metadata": {},
     "output_type": "execute_result"
    },
    {
     "data": {
      "image/png": "[encoded data removed]",
      "text/plain": [
       "<Figure size 1440x720 with 1 Axes>"
      ]
     },
     "metadata": {
      "needs_background": "light"
     },
     "output_type": "display_data"
    }
   ],
   "source": [
    "# spectral_bandwidth\n",
    "sns.boxplot(y = 'spectral_bandwidth', x = 'label',\n",
    "           data = data,\n",
    "            width = 0.5,\n",
    "           palette = 'colorblind')"
   ]
  },
  {
   "cell_type": "code",
   "execution_count": 20,
   "metadata": {},
   "outputs": [
    {
     "data": {
      "text/plain": [
       "<matplotlib.axes._subplots.AxesSubplot at 0x12f8c1390>"
      ]
     },
     "execution_count": 20,
     "metadata": {},
     "output_type": "execute_result"
    },
    {
     "data": {
      "image/png": "[encoded data removed]",
      "text/plain": [
       "<Figure size 1440x720 with 1 Axes>"
      ]
     },
     "metadata": {
      "needs_background": "light"
     },
     "output_type": "display_data"
    }
   ],
   "source": [
    "# rolloff\n",
    "sns.boxplot(y = 'rolloff', x = 'label',\n",
    "           data = data,\n",
    "            width = 0.5,\n",
    "           palette = 'colorblind')"
   ]
  },
  {
   "cell_type": "code",
   "execution_count": 21,
   "metadata": {},
   "outputs": [
    {
     "data": {
      "text/plain": [
       "<matplotlib.axes._subplots.AxesSubplot at 0x12fc57748>"
      ]
     },
     "execution_count": 21,
     "metadata": {},
     "output_type": "execute_result"
    },
    {
     "data": {
      "image/png": "[encoded data removed]",
      "text/plain": [
       "<Figure size 1440x720 with 1 Axes>"
      ]
     },
     "metadata": {
      "needs_background": "light"
     },
     "output_type": "display_data"
    }
   ],
   "source": [
    "# Zero crossing rate\n",
    "sns.boxplot(y = 'zero_crossing_rate', x = 'label',\n",
    "           data = data,\n",
    "           width = 0.5,\n",
    "           palette = 'colorblind')"
   ]
  },
  {
   "cell_type": "code",
   "execution_count": 22,
   "metadata": {},
   "outputs": [
    {
     "data": {
      "text/plain": [
       "<matplotlib.axes._subplots.AxesSubplot at 0x1300469e8>"
      ]
     },
     "execution_count": 22,
     "metadata": {},
     "output_type": "execute_result"
    },
    {
     "data": {
      "image/png": "[encoded data removed]",
      "text/plain": [
       "<Figure size 1440x720 with 1 Axes>"
      ]
     },
     "metadata": {
      "needs_background": "light"
     },
     "output_type": "display_data"
    }
   ],
   "source": [
    "# Tempo\n",
    "sns.boxplot(y = 'tempo', x = 'label',\n",
    "           data = data,\n",
    "           width = 0.5,\n",
    "           palette = 'colorblind')"
   ]
  },
  {
   "cell_type": "markdown",
   "metadata": {},
   "source": [
    "From these boxplots, we can see the following trends\n",
    "1. There are lots of outliers, as seen by the diamonds. In terms of statistical theory, removing outliers is a dangerous idea. Often, these outliers have a story behind them and why they are in the dataset. For example, the fact that these songs are outliers may be the reason why they were popular in the first place. \n",
    "2. The only noticeable trends that we can see are: \n",
    "    1. Spectral centroid somewhat decreases as the years go by\n",
    "    2. Rolloff decreases as we get closer to 2019\n",
    "    3. Zero crossing rate takes an appreciable dip near 2019. \n",
    "   Figuring out whether these actually constitute trends is where statistics comes in! We will perform a t-test for a regression line. \n",
    "3. The metric that we all understand, tempo, has no change whatsoever. \n",
    "4. More MFCC analysis will come soon"
   ]
  },
  {
   "cell_type": "markdown",
   "metadata": {},
   "source": [
    "### Regression Testing\n",
    "Why are we performing linear regression, and what does t-tests have to do with anything?\n",
    "\n",
    "In this situation, we are uncertain if there is any relationship between years and spectral centroid, rolloff and zero crossing rate. \n",
    "\n",
    "If we were certain, then we should be able to draw a linear regression line that has a non-zero slope. If there is no relationship, then the slope should be zero. \n",
    "\n",
    "This is what we are trying to do in this case. We will construct the a linear regression for each factor from 2010 to 2018. We will then examine the p-value of the slope, which will tell us the probability that the null hypothesis (that there is a slope of 0) is true given the data that we have. If the p-value is small (less than 0.05), we can say with a reasonable amount of confidence that we are likely to have a non-zero slope, or in other words, an actual relationship. \n",
    "\n",
    "Let's get started by creating a regression for rolloff."
   ]
  },
  {
   "cell_type": "code",
   "execution_count": 31,
   "metadata": {},
   "outputs": [
    {
     "name": "stdout",
     "output_type": "stream",
     "text": [
      "The slope of the rolloff linear regression test is -0.000602335210322736\n",
      "The p-value of the slope of the rolloff linear regression test is 0.004651932363719353\n",
      "The standard error of the slope of the rolloff linear regression test is 0.00021000733162144123\n"
     ]
    }
   ],
   "source": [
    "slope, intercept, r_value, p_value, std_err = stats.linregress(data['rolloff'],data['label'])\n",
    "print(f'The slope of the rolloff linear regression test is {slope}')\n",
    "print(f'The p-value of the slope of the rolloff linear regression test is {p_value}')\n",
    "print(f'The standard error of the slope of the rolloff linear regression test is {std_err}')"
   ]
  },
  {
   "cell_type": "code",
   "execution_count": 32,
   "metadata": {},
   "outputs": [
    {
     "name": "stdout",
     "output_type": "stream",
     "text": [
      "The slope of the spectral centroid linear regression test is -0.0013561736465042343\n",
      "The p-value of the slope of the spectral centroid linear regression test is 0.002732361290249828\n",
      "The standard error of the slope of the spectral centroid linear regression test is 0.00044597577483192994\n"
     ]
    }
   ],
   "source": [
    "slope, intercept, r_value, p_value, std_err = stats.linregress(data['spectral_centroid'],data['label'])\n",
    "print(f'The slope of the spectral centroid linear regression test is {slope}')\n",
    "print(f'The p-value of the slope of the spectral centroid linear regression test is {p_value}')\n",
    "print(f'The standard error of the slope of the spectral centroid linear regression test is {std_err}')"
   ]
  },
  {
   "cell_type": "code",
   "execution_count": 33,
   "metadata": {},
   "outputs": [
    {
     "name": "stdout",
     "output_type": "stream",
     "text": [
      "The slope of the zero crossing rate linear regression test is -27.569982233784827\n",
      "The p-value of the slope of the zero crossing rate linear regression test is 6.650760961928897e-05\n",
      "The standard error of the slope of the zero crossing rate linear regression test is 6.741088438837982\n"
     ]
    }
   ],
   "source": [
    "slope, intercept, r_value, p_value, std_err = stats.linregress(data['zero_crossing_rate'],data['label'])\n",
    "print(f'The slope of the zero crossing rate linear regression test is {slope}')\n",
    "print(f'The p-value of the slope of the zero crossing rate linear regression test is {p_value}')\n",
    "print(f'The standard error of the slope of the zero crossing rate linear regression test is {std_err}')"
   ]
  }
 ],
 "metadata": {
  "kernelspec": {
   "display_name": "env",
   "language": "python",
   "name": "env"
  },
  "language_info": {
   "codemirror_mode": {
    "name": "ipython",
    "version": 3
   },
   "file_extension": ".py",
   "mimetype": "text/x-python",
   "name": "python",
   "nbconvert_exporter": "python",
   "pygments_lexer": "ipython3",
   "version": "3.7.3"
  }
 },
 "nbformat": 4,
 "nbformat_minor": 2
}
