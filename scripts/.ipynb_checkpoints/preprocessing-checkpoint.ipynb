{
 "cells": [
  {
   "cell_type": "markdown",
   "metadata": {},
   "source": [
    "# Preprocessing \n",
    "\n",
    "In this script, I would like to do the following:\n",
    "1. Loop through all subdirectories in the music folder (not on Github) and get features for each song\n",
    "2. Features to look at:\n",
    "    a) Zero-crossings (possibly do rate?)\n",
    "    b) Spectral centroids\n",
    "    c) Spectral rolloff\n",
    "    d) Mel-frequency cestral coefficients (multiple columns)\n",
    "    e) Chroma frequencies (multiple columns)\n",
    "    f) Tempograms\n",
    "3. Compile CSV file that stores all this data for each song\n",
    "\n",
    "Also, I found a really good website for more information of feature extraction: https://musicinformationretrieval.com"
   ]
  },
  {
   "cell_type": "code",
   "execution_count": 21,
   "metadata": {},
   "outputs": [],
   "source": [
    "# Libraries\n",
    "\n",
    "## Music\n",
    "import librosa\n",
    "\n",
    "## Data analysis\n",
    "import numpy as np\n",
    "import pandas as pd\n",
    "import matplotlib.pyplot as plt\n",
    "%matplotlib inline\n",
    "\n",
    "## File handling\n",
    "import os\n",
    "import pathlib\n",
    "import csv\n",
    "\n",
    "## Preprocessing\n",
    "from sklearn.model_selection import train_test_split\n",
    "from sklearn.preprocessing import LabelEncoder, StandardScaler"
   ]
  },
  {
   "cell_type": "markdown",
   "metadata": {},
   "source": [
    "Let's start off by preparing a csv file"
   ]
  },
  {
   "cell_type": "code",
   "execution_count": 22,
   "metadata": {},
   "outputs": [],
   "source": [
    "header = 'filename chroma_stft spectral_centroid spectral_bandwidth rolloff zero_crossing_rate tempo'\n",
    "for i in range(1, 21):\n",
    "    header += f' mfcc{i}'\n",
    "header += ' label'\n",
    "header = header.split()\n",
    "\n",
    "file = open(\"../data.csv\", \"w\", newline = \"\")\n",
    "with file:\n",
    "    writer = csv.writer(file)\n",
    "    writer.writerow(header)"
   ]
  },
  {
   "cell_type": "markdown",
   "metadata": {},
   "source": [
    "Now, we are going to systematically extract features out of every song and store the data of one song in one row.  We will then write the row to a csv file."
   ]
  },
  {
   "cell_type": "code",
   "execution_count": null,
   "metadata": {},
   "outputs": [
    {
     "name": "stderr",
     "output_type": "stream",
     "text": [
      "/Users/aaronabraham/Documents/Programming/Python/SoundOff/env/lib/python3.7/site-packages/librosa/core/audio.py:146: UserWarning: PySoundFile failed. Trying audioread instead.\n",
      "  warnings.warn('PySoundFile failed. Trying audioread instead.')\n"
     ]
    }
   ],
   "source": [
    "years = ['2010', '2011', '2012', '2013', '2014', \n",
    "        '2015', '2016', '2017', '2018']\n",
    "\n",
    "for year in years:\n",
    "    subdir = f'../music/english/{year}'\n",
    "    for filename in os.listdir(subdir):\n",
    "        songname = f'../music/english/{year}/{filename}'\n",
    "        x, sr = librosa.load(songname)\n",
    "        \n",
    "        # Extracting features. Note: We can possibly look at separating the harmonic and percussive parts of the song\n",
    "        chroma_stft = librosa.feature.chroma_stft(x, sr=sr)\n",
    "        spec_cent = librosa.feature.spectral_centroid(x, sr=sr)\n",
    "        spec_bw = librosa.feature.spectral_bandwidth(x, sr=sr)\n",
    "        rolloff = librosa.feature.spectral_rolloff(x, sr=sr)\n",
    "        zcr = librosa.feature.zero_crossing_rate(x)\n",
    "        mfcc = librosa.feature.mfcc(x, sr=sr)\n",
    "        tempo = librosa.beat.tempo(x, sr = sr)\n",
    "        \n",
    "        \n",
    "        to_add = f'{filename} {np.mean(chroma_stft)} {np.mean(spec_cent)} {np.mean(spec_bw)} {np.mean(rolloff)} {np.mean(zcr)} {tempo}'\n",
    "        for i in mfcc:\n",
    "            to_add += f' {np.mean(i)}'\n",
    "        \n",
    "        to_add += f' {year}'\n",
    "        \n",
    "        # Putting this into a file\n",
    "        \n",
    "        file = open(\"../data.csv\", 'a', newline = '')\n",
    "        with file:\n",
    "            writer = csv.writer(file)\n",
    "            writer.writerow(to_add.split())"
   ]
  },
  {
   "cell_type": "code",
   "execution_count": null,
   "metadata": {},
   "outputs": [],
   "source": []
  }
 ],
 "metadata": {
  "kernelspec": {
   "display_name": "env",
   "language": "python",
   "name": "env"
  },
  "language_info": {
   "codemirror_mode": {
    "name": "ipython",
    "version": 3
   },
   "file_extension": ".py",
   "mimetype": "text/x-python",
   "name": "python",
   "nbconvert_exporter": "python",
   "pygments_lexer": "ipython3",
   "version": "3.7.3"
  }
 },
 "nbformat": 4,
 "nbformat_minor": 2
}
