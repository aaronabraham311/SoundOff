{
  "nbformat": 4,
  "nbformat_minor": 0,
  "metadata": {
    "colab": {
      "name": "feature_cleaning.ipynb",
      "provenance": [],
      "collapsed_sections": [],
      "mount_file_id": "1Ct_HfBDTCJ29qb8BGba71kXPlZz8k9hR",
      "authorship_tag": "ABX9TyNG5ooBKQ1wWbcjRidHWKHu",
      "include_colab_link": true
    },
    "kernelspec": {
      "name": "python3",
      "display_name": "Python 3"
    }
  },
  "cells": [
    {
      "cell_type": "markdown",
      "metadata": {
        "id": "view-in-github",
        "colab_type": "text"
      },
      "source": [
        "<a href=\"https://colab.research.google.com/github/aaronabraham311/SoundOff/blob/master/scripts/feature_cleaning.ipynb\" target=\"_parent\"><img src=\"https://colab.research.google.com/assets/colab-badge.svg\" alt=\"Open In Colab\"/></a>"
      ]
    },
    {
      "cell_type": "markdown",
      "metadata": {
        "id": "En1vbGw5Lox7",
        "colab_type": "text"
      },
      "source": [
        "# Cleaning data\n",
        "\n",
        "I need to do a little bit of cleaning for the tabular data before I get into any modelling. This is also a test of Google Colab!"
      ]
    },
    {
      "cell_type": "code",
      "metadata": {
        "id": "fs2A31iHLKRn",
        "colab_type": "code",
        "colab": {
          "base_uri": "https://localhost:8080/",
          "height": 194
        },
        "outputId": "78db071f-2d85-449d-caec-c02ff535f79c"
      },
      "source": [
        "import pandas as pd\n",
        "import numpy as np\n",
        "from google.colab import drive\n",
        "\n",
        "drive.mount('/content/drive')"
      ],
      "execution_count": 5,
      "outputs": [
        {
          "output_type": "stream",
          "text": [
            "Drive already mounted at /content/drive; to attempt to forcibly remount, call drive.mount(\"/content/drive\", force_remount=True).\n"
          ],
          "name": "stdout"
        }
      ]
    },
    {
      "cell_type": "code",
      "metadata": {
        "id": "CgCCYH_MMBMN",
        "colab_type": "code",
        "colab": {}
      },
      "source": [
        "english_df = pd.read_csv('/content/drive/My Drive/new_raw_data.csv')\n",
        "indian_df = pd.read_csv('/content/drive/My Drive/indian_raw_data.csv')"
      ],
      "execution_count": 0,
      "outputs": []
    },
    {
      "cell_type": "markdown",
      "metadata": {
        "id": "wOg_CtZuOJUM",
        "colab_type": "text"
      },
      "source": [
        "Let's clean the datasets and send it to a new .csv file"
      ]
    },
    {
      "cell_type": "code",
      "metadata": {
        "id": "DrHLtRF5OIyL",
        "colab_type": "code",
        "colab": {}
      },
      "source": [
        "# Changing label into categorical object\n",
        "english_df['year'] = english_df['year'].astype('category')\n",
        "\n",
        "# Fixing up tempo column\n",
        "english_df['tempo'] = english_df['tempo'].apply(lambda x: x.replace('[', ''))\n",
        "english_df['tempo'] = english_df['tempo'].apply(lambda x: x.replace(']', ''))\n",
        "english_df['tempo'] = english_df['tempo'].astype('float64')\n",
        "\n",
        "english_df.to_csv(\"/content/drive/My Drive/english_processed_data.csv\")"
      ],
      "execution_count": 0,
      "outputs": []
    },
    {
      "cell_type": "code",
      "metadata": {
        "id": "MOFT-kc8O_pz",
        "colab_type": "code",
        "colab": {}
      },
      "source": [
        "# Changing label into categorical object\n",
        "indian_df['year'] = indian_df['year'].astype('category')\n",
        "\n",
        "# Fixing up tempo column\n",
        "indian_df['tempo'] = indian_df['tempo'].apply(lambda x: x.replace('[', ''))\n",
        "indian_df['tempo'] = indian_df['tempo'].apply(lambda x: x.replace(']', ''))\n",
        "indian_df['tempo'] = indian_df['tempo'].astype('float64')\n",
        "\n",
        "indian_df.to_csv(\"/content/drive/My Drive/indian_processed_data.csv\")"
      ],
      "execution_count": 0,
      "outputs": []
    }
  ]
}